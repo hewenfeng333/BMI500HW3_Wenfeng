{
  "nbformat": 4,
  "nbformat_minor": 0,
  "metadata": {
    "colab": {
      "provenance": []
    },
    "kernelspec": {
      "name": "python3",
      "display_name": "Python 3"
    },
    "language_info": {
      "name": "python"
    }
  },
  "cells": [
    {
      "cell_type": "code",
      "execution_count": 1,
      "metadata": {
        "id": "TZf1nEV0a7Qb"
      },
      "outputs": [],
      "source": [
        "import math\n",
        "import numpy as np\n",
        "import time\n",
        "import matplotlib.pyplot as plt"
      ]
    },
    {
      "cell_type": "markdown",
      "source": [
        "Problem 1. Write a function in Python 3.x that, given an integer n, returns the sum of the first n terms of the series in the Leibniz formula."
      ],
      "metadata": {
        "id": "Cj-2AZZYbvkJ"
      }
    },
    {
      "cell_type": "code",
      "source": [
        "def calculate_leibniz_sum(n: int) -> float:\n",
        "  total_sum = 0.0\n",
        "  for k in range(n):\n",
        "    term = ((-1)**k) / (2 * k + 1)\n",
        "    total_sum += term\n",
        "  return total_sum"
      ],
      "metadata": {
        "id": "qqZyPoJubx0R"
      },
      "execution_count": 2,
      "outputs": []
    },
    {
      "cell_type": "markdown",
      "source": [
        "Problem 2. For each of the following items, write a function in Python 3.x that, given an integer n, returns the sum of the first n terms of the series in the Leibniz formula."
      ],
      "metadata": {
        "id": "YoDzpK9ccZNg"
      }
    },
    {
      "cell_type": "code",
      "source": [
        "#a. Use a for-loop and an if-statement with the modulo operator % to determine whether to add or subtract each term.\n",
        "def leibniz_a(n):\n",
        "    total = 0.0\n",
        "    for k in range(n):\n",
        "        denominator = 2 * k + 1\n",
        "        if k % 2 == 0:\n",
        "            total += 1 / denominator\n",
        "        else:\n",
        "            total -= 1 / denominator\n",
        "    return total"
      ],
      "metadata": {
        "id": "mf_cN4QpchZt"
      },
      "execution_count": 3,
      "outputs": []
    },
    {
      "cell_type": "code",
      "source": [
        "#b. Use a for-loop with the quantity (-1)**n to determine whether to add or subtract each term.\n",
        "def leibniz_b(n):\n",
        "    total = 0.0\n",
        "    for k in range(n):\n",
        "        term = (-1) ** k / (2 * k + 1)\n",
        "        total += term\n",
        "    return total"
      ],
      "metadata": {
        "id": "yeaQxLIlciv_"
      },
      "execution_count": 4,
      "outputs": []
    },
    {
      "cell_type": "code",
      "source": [
        "#c. Construct a Python list and compute the sum of the terms in the list.\n",
        "def leibniz_c(n):\n",
        "    terms = []\n",
        "    for k in range(n):\n",
        "        term = (-1) ** k / (2 * k + 1)\n",
        "        terms.append(term)\n",
        "    return sum(terms)"
      ],
      "metadata": {
        "id": "djeN-Oxmcvv8"
      },
      "execution_count": 5,
      "outputs": []
    },
    {
      "cell_type": "code",
      "source": [
        "#d. Construct a Python set and compute the sum of the terms in the set.\n",
        "def leibniz_d(n):\n",
        "    terms = set()\n",
        "    for k in range(n):\n",
        "        term = (-1) ** k / (2 * k + 1)\n",
        "        terms.add(term)\n",
        "    return sum(terms)"
      ],
      "metadata": {
        "id": "8ZW857gBdWTM"
      },
      "execution_count": 6,
      "outputs": []
    },
    {
      "cell_type": "code",
      "source": [
        "#e. Construct a Python dictionary and compute the sum of the terms in the dictionary.\n",
        "def leibniz_e(n):\n",
        "    terms = {}\n",
        "    for k in range(n):\n",
        "        term = (-1) ** k / (2 * k + 1)\n",
        "        terms[k] = term\n",
        "    return sum(terms.values())"
      ],
      "metadata": {
        "id": "QA1qlRuCdXnj"
      },
      "execution_count": 7,
      "outputs": []
    },
    {
      "cell_type": "code",
      "source": [
        "#f. Construct a NumPy array and compute the sum of the terms in the array.\n",
        "def leibniz_f(n):\n",
        "    k_values = np.arange(n)\n",
        "    terms = (-1) ** k_values / (2 * k_values + 1)\n",
        "    return np.sum(terms)"
      ],
      "metadata": {
        "id": "pMaPBjisdYru"
      },
      "execution_count": 8,
      "outputs": []
    },
    {
      "cell_type": "code",
      "source": [
        "#g. Construct a NumPy array, use array indexing to compute the sum of the positive terms in the array, use array indexing to compute the sum of the negative terms in the array, and add the two sums together. You can write x[::2] to access the first, third, etc. terms and x[1::2] to access the second, fourth, etc. terms.\n",
        "def leibniz_g(n):\n",
        "    k_values = np.arange(n)\n",
        "    terms = (-1) ** k_values / (2 * k_values + 1)\n",
        "    positive_sum = np.sum(terms[::2])\n",
        "    negative_sum = np.sum(terms[1::2])\n",
        "    return positive_sum + negative_sum"
      ],
      "metadata": {
        "id": "UIQNZZt6dbEV"
      },
      "execution_count": 9,
      "outputs": []
    },
    {
      "cell_type": "code",
      "source": [
        "#j. Combine the first and second terms, the third and fourth terms, etc. to change this series from an alternating to a non-alternating series and compute the sum of the combined terms.\n",
        "def leibniz_j(n):\n",
        "    m = n // 2\n",
        "    total = math.fsum(1/(4*k+1) - 1/(4*k+3) for k in range(m))\n",
        "    if n % 2 == 1:\n",
        "        total += 1/(4*m+1)\n",
        "    return total"
      ],
      "metadata": {
        "id": "bD7zKHyZdgWl"
      },
      "execution_count": 10,
      "outputs": []
    },
    {
      "cell_type": "markdown",
      "source": [
        "Problem 3. Which of these implementations of the Leibniz formula is the most accurate, fastest, and/or clearest? Which function would you use to calculate π (and why)? You can use the. built-in constants math.pi or np.pi for assessing the accuracy of your functions and the time package or the %timeit command for timing."
      ],
      "metadata": {
        "id": "Ofvhl9UieEvB"
      }
    },
    {
      "cell_type": "code",
      "source": [
        "def compare_implementations(n=1000000):\n",
        "    reference = np.pi / 4\n",
        "    implementations = {\n",
        "        'a': leibniz_a,\n",
        "        'b': leibniz_b,\n",
        "        'c': leibniz_c,\n",
        "        'd': leibniz_d,\n",
        "        'e': leibniz_e,\n",
        "        'f': leibniz_f,\n",
        "        'g': leibniz_g,\n",
        "        'j': leibniz_j\n",
        "    }\n",
        "    results = {}\n",
        "    for name, func in implementations.items():\n",
        "        start_time = time.time()\n",
        "        result = func(n)\n",
        "        end_time = time.time()\n",
        "        error = abs(result - reference)\n",
        "        results[name] = {\n",
        "            'time': end_time - start_time,\n",
        "            'error': error\n",
        "        }\n",
        "\n",
        "    return results\n",
        "\n",
        "results = compare_implementations(1000000)\n",
        "\n",
        "fastest = min(results.items(), key=lambda x: x[1]['time'])\n",
        "most_accurate = min(results.items(), key=lambda x: x[1]['error'])\n",
        "\n",
        "print(\"Comparison Results:\")\n",
        "for name, data in results.items():\n",
        "    print(f\"{name}: Time = {data['time']:.6f}s, Error = {data['error']:.2e}\")\n",
        "\n",
        "print(f\"\\nFastest implementation: {fastest[0]} ({fastest[1]['time']:.6f}s)\")"
      ],
      "metadata": {
        "colab": {
          "base_uri": "https://localhost:8080/"
        },
        "id": "NYPowNq1fDSR",
        "outputId": "f2b0d472-5a4a-43ac-f729-2b0c8d394fab"
      },
      "execution_count": 11,
      "outputs": [
        {
          "output_type": "stream",
          "name": "stdout",
          "text": [
            "Comparison Results:\n",
            "a: Time = 0.583661s, Error = 2.50e-07\n",
            "b: Time = 0.855245s, Error = 2.50e-07\n",
            "c: Time = 0.414507s, Error = 2.50e-07\n",
            "d: Time = 0.698973s, Error = 2.50e-07\n",
            "e: Time = 0.522302s, Error = 2.50e-07\n",
            "f: Time = 0.099166s, Error = 2.50e-07\n",
            "g: Time = 0.102534s, Error = 2.50e-07\n",
            "j: Time = 0.237150s, Error = 2.50e-07\n",
            "\n",
            "Fastest implementation: f (0.099166s)\n"
          ]
        }
      ]
    },
    {
      "cell_type": "code",
      "source": [
        "print(\"\\nRecommendation:\")\n",
        "print(\"For calculating π using the Leibniz formula, I would use implementation 'f' (NumPy array) because:\")\n",
        "print(\"It is the fastest and clearest implementation (0.099166s for n=1000000) and provides the same accuracy as other implementations (error: 2.50e-07)\")"
      ],
      "metadata": {
        "colab": {
          "base_uri": "https://localhost:8080/"
        },
        "id": "IlgHXXoHmKHs",
        "outputId": "20d44234-0c78-4ee2-d95b-d2b20a943a06"
      },
      "execution_count": 12,
      "outputs": [
        {
          "output_type": "stream",
          "name": "stdout",
          "text": [
            "\n",
            "Recommendation:\n",
            "For calculating π using the Leibniz formula, I would use implementation 'f' (NumPy array) because:\n",
            "It is the fastest and clearest implementation (0.099166s for n=1000000) and provides the same accuracy as other implementations (error: 2.50e-07)\n"
          ]
        }
      ]
    },
    {
      "cell_type": "markdown",
      "source": [
        "Problem 4. Choose your favorite implementation of this formula, and plot the absolute error in the sum as a function of the number of terms in the sum.\n",
        "You should have accurate, informative, and legible labels for both the x-axis and y-axis, and you should use logarithmic axes or take the logarithm of the errors and the numbers of terms so that you can see the sums converge over a wide range of values. By default, most plotting packages generate large plots that are diﬃcult to read in papers and presentations. Use a command like plt.figure(figsize=(2, 2)) to make your plot more legible."
      ],
      "metadata": {
        "id": "46BAXffTeT2h"
      }
    },
    {
      "cell_type": "code",
      "source": [
        "def calculate_errors(max_n=100000, num_points=100):\n",
        "    n_values = np.logspace(1, np.log10(max_n), num_points).astype(int)\n",
        "    n_values = np.unique(n_values)\n",
        "    errors = []\n",
        "    for n in n_values:\n",
        "        approx_pi = 4 * leibniz_f(n)\n",
        "        error = abs(approx_pi - math.pi)\n",
        "        errors.append(error)\n",
        "\n",
        "    return n_values, np.array(errors)\n",
        "\n",
        "def plot_error_analysis():\n",
        "    n_values, errors = calculate_errors(max_n=100000, num_points=100)\n",
        "\n",
        "    plt.figure(figsize=(2, 2))\n",
        "\n",
        "    plt.loglog(n_values, errors, 'b-', linewidth=1)\n",
        "\n",
        "    plt.title('Error vs. Terms in Leibniz Formula', fontsize=8)\n",
        "    plt.xlabel('Number of Terms (n)', fontsize=6)\n",
        "    plt.ylabel('Absolute Error', fontsize=6)\n",
        "\n",
        "    plt.tick_params(axis='both', which='major', labelsize=5)\n",
        "    plt.grid(True, which='both', linestyle='--', alpha=0.5, linewidth=0.5)\n",
        "\n",
        "    plt.tight_layout()\n",
        "    plt.show()\n",
        "\n",
        "plot_error_analysis()"
      ],
      "metadata": {
        "colab": {
          "base_uri": "https://localhost:8080/",
          "height": 207
        },
        "id": "hkYX2jUimqmv",
        "outputId": "41f9499e-3db9-4c29-d623-b9f39bde3df0"
      },
      "execution_count": 13,
      "outputs": [
        {
          "output_type": "display_data",
          "data": {
            "text/plain": [
              "<Figure size 200x200 with 1 Axes>"
            ],
            "image/png": "[encoded data removed]"
          },
          "metadata": {}
        }
      ]
    },
    {
      "cell_type": "markdown",
      "source": [
        "Problem 5. Would you do anything diﬀerently for computing π using the Leibniz formula if you were using MATLAB instead of Python?"
      ],
      "metadata": {
        "id": "vCd1P4zTecoG"
      }
    },
    {
      "cell_type": "code",
      "source": [
        "print(\"No, the fundamental approach would be identical. While the syntax for creating arrays (`np.arange(n)` vs. `0:n-1`) and for element-wise operations (`**` vs. `.^`) differs, the core, efficient logic remains the same.\")"
      ],
      "metadata": {
        "colab": {
          "base_uri": "https://localhost:8080/"
        },
        "id": "l20WiHStn0_n",
        "outputId": "e8336cc6-fd27-48a0-f1e8-d7f60896cc1d"
      },
      "execution_count": 14,
      "outputs": [
        {
          "output_type": "stream",
          "name": "stdout",
          "text": [
            "No, the fundamental approach would be identical. While the syntax for creating arrays (`np.arange(n)` vs. `0:n-1`) and for element-wise operations (`**` vs. `.^`) differs, the core, efficient logic remains the same.\n"
          ]
        }
      ]
    }
  ]
}
